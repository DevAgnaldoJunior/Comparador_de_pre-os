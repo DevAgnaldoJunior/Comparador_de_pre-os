{
 "cells": [
  {
   "cell_type": "code",
   "execution_count": null,
   "metadata": {
    "vscode": {
     "languageId": "plaintext"
    }
   },
   "outputs": [],
   "source": []
  },
  {
   "cell_type": "code",
   "execution_count": null,
   "metadata": {
    "vscode": {
     "languageId": "plaintext"
    }
   },
   "outputs": [],
   "source": [
    "url_base = \"https://www.americanas.com.br/busca/\"\n",
    "    \n",
    "    driver = init_driver()\n",
    "    driver.get(url_base + produto_name)\n",
    "    \n",
    "    driver.execute_script(\"window.scrollTo(0, document.body.scrollHeight);\")\n",
    "\n",
    "    # Espera um pouco para garantir que o conteúdo seja carregado\n",
    "    time.sleep(3) \n",
    "\n",
    "    # Obter o HTML da página carregada\n",
    "    site = BeautifulSoup(driver.page_source, 'html.parser')\n",
    "    \n",
    "    driver.quit()  # Fechar o navegador após a requisição\n",
    "\n",
    "    # Agora, continue com o mesmo processo de extração de dados com BeautifulSoup\n",
    "    produtos = site.find_all('div', attrs={'class': \"src__Wrapper-sc-1l8mow4-0\"})\n",
    "\n",
    "    lista_produtos = []\n",
    "\n",
    "    for produto in produtos:\n",
    "        nome_do_produto = produto.find('h3')\n",
    "        if nome_do_produto is None:\n",
    "            nome_do_produto = produto.select_one('product-name')\n",
    "\n",
    "\n",
    "        # Link do produto\n",
    "        link_tag = produto.find('a', href=True)\n",
    "        link = link_tag['href'] if link_tag else None\n",
    "\n",
    "        # Certifique-se de que o link não seja nulo e que esteja completo\n",
    "        if link and not link.startswith('http'):\n",
    "            link = f'https://www.americanas.com.br{link}'\n",
    "\n",
    "        # Preço\n",
    "        precos = produto.find_all('span', attrs={'class': 'src__Text-sc-154pg0p-0'})\n",
    "    lista_precos = []\n",
    "\n",
    "    for preco in precos:\n",
    "        preco_texto = preco.text.strip()\n",
    "        if preco_texto:\n",
    "            lista_precos.append(preco_texto)\n",
    "\n",
    "    # Verificando se encontrou preços e convertendo para float\n",
    "    if lista_precos:\n",
    "        try:\n",
    "         preco_value = float(lista_precos[0].replace('.', '').replace(',', '.'))\n",
    "        except ValueError:\n",
    "            preco_value = None  # Se não conseguir converter, atribui None\n",
    "    else:\n",
    "        preco_value = None\n",
    "\n",
    "        lista_produtos.append([ \n",
    "            nome_do_produto.text.strip() if nome_do_produto else \"Nome não disponivel\",\n",
    "            link,\n",
    "            preco_value\n",
    "        ])\n",
    "\n",
    "    return lista_produtos\n",
    "\n",
    "\n",
    "print()"
   ]
  }
 ],
 "metadata": {
  "language_info": {
   "name": "python"
  }
 },
 "nbformat": 4,
 "nbformat_minor": 2
}
